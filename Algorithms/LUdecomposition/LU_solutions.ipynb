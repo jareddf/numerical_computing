{
 "metadata": {
  "name": "LU_solutions"
 },
 "nbformat": 3,
 "nbformat_minor": 0,
 "worksheets": [
  {
   "cells": [
    {
     "cell_type": "code",
     "collapsed": false,
     "input": [
      "import numpy as np\n",
      "from numpy.random import rand\n",
      "from scipy import linalg as la\n",
      "from math import sqrt"
     ],
     "language": "python",
     "metadata": {},
     "outputs": [],
     "prompt_number": 1
    },
    {
     "cell_type": "code",
     "collapsed": false,
     "input": [
      "def ref(A):\n",
      "    for j in xrange(A.shape[0]):\n",
      "        for i in xrange(j+1, A.shape[0]):\n",
      "            A[i,j:] -= A[i,j] * A[j,j:] / A[j,j]\n",
      "\n",
      "def ref2(A):\n",
      "    # This is an alternate version\n",
      "    # It is faster but less intuitive.\n",
      "    for i in xrange(A.shape[0]):\n",
      "        A[i+1:,i:] -= np.outer(A[i+1:,i]/A[i,i], A[i,i:])\n"
     ],
     "language": "python",
     "metadata": {},
     "outputs": [],
     "prompt_number": 2
    },
    {
     "cell_type": "code",
     "collapsed": false,
     "input": [
      "n = 4\n",
      "A = rand(n, n)\n",
      "ref(A)\n",
      "A"
     ],
     "language": "python",
     "metadata": {},
     "outputs": [
      {
       "metadata": {},
       "output_type": "pyout",
       "prompt_number": 3,
       "text": [
        "array([[  4.39102460e-01,   4.40983395e-02,   9.47132913e-01,\n",
        "          5.20414427e-01],\n",
        "       [  0.00000000e+00,   5.13132961e-03,  -1.91106654e+00,\n",
        "         -1.40990776e-01],\n",
        "       [  0.00000000e+00,   0.00000000e+00,   2.51886717e+02,\n",
        "          1.85363257e+01],\n",
        "       [  0.00000000e+00,   0.00000000e+00,   0.00000000e+00,\n",
        "          4.05911080e-01]])"
       ]
      }
     ],
     "prompt_number": 3
    },
    {
     "cell_type": "code",
     "collapsed": false,
     "input": [
      "def LU(A):\n",
      "    U = A.copy()\n",
      "    L = np.eye(A.shape[0])\n",
      "    for j in xrange(A.shape[0]-1):\n",
      "        for i in xrange(j+1, A.shape[0]):\n",
      "            # operation corresponding to left mult by\n",
      "            # the elementary matrix desired\n",
      "            L[i,j] = U[i,j] / U[j,j]\n",
      "            # now we apply the change to U\n",
      "            U[i,j:] -= L[i,j] * U[j,j:]\n",
      "    return L, U\n",
      "\n",
      "def LU2(A):\n",
      "    # This is an alternate similar to ref2.\n",
      "    U = A.copy()\n",
      "    L = np.eye(A.shape[0])\n",
      "    for i in xrange(A.shape[0]-1):\n",
      "        L[i+1:,i] = U[i+1:,i] / U[i,i]\n",
      "        U[i+1:,i:] -= np.outer(L[i+1:,i], U[i,i:])\n",
      "    return L, U\n"
     ],
     "language": "python",
     "metadata": {},
     "outputs": [],
     "prompt_number": 4
    },
    {
     "cell_type": "code",
     "collapsed": false,
     "input": [
      "# verification that LU decomposition is working\n",
      "n = 500\n",
      "A = rand(n, n)\n",
      "la.norm(np.dot(LU(A)[0], LU(A)[1]) - A)"
     ],
     "language": "python",
     "metadata": {},
     "outputs": [
      {
       "metadata": {},
       "output_type": "pyout",
       "prompt_number": 5,
       "text": [
        "1.9009198053661749e-10"
       ]
      }
     ],
     "prompt_number": 5
    },
    {
     "cell_type": "code",
     "collapsed": false,
     "input": [
      "def LU_inplace(A):\n",
      "    for j in xrange(A.shape[0]-1):\n",
      "        for i in xrange(j+1, A.shape[0]):\n",
      "\t\t\t# change to L\n",
      "            A[i,j] /= A[j,j]\n",
      "            # change to U\n",
      "            A[i,j+1:] -= A[i,j] * A[j,j+1:]\n",
      "\n",
      "def LU_solve(A,B):\n",
      "    for j in xrange(A.shape[0]-1):\n",
      "        for i in xrange(j+1, A.shape[0]):\n",
      "            B[i] -= A[i,j] * B[j]\n",
      "    for j in xrange(A.shape[0]-1, -1, -1):\n",
      "        B[j] /= A[j,j]\n",
      "        for i in xrange(j):\n",
      "            B[i] -= A[i,j] * B[j]\n"
     ],
     "language": "python",
     "metadata": {},
     "outputs": [],
     "prompt_number": 6
    },
    {
     "cell_type": "code",
     "collapsed": false,
     "input": [
      "# verification that LU_inplace output matches LU output\n",
      "# this should return an identity array\n",
      "n = 10\n",
      "A = rand(n, n)\n",
      "L, U = LU(A)\n",
      "LU_inplace(A)\n",
      "print np.round(L + U - A)"
     ],
     "language": "python",
     "metadata": {},
     "outputs": [
      {
       "output_type": "stream",
       "stream": "stdout",
       "text": [
        "[[ 1.  0.  0.  0.  0.  0.  0.  0.  0.  0.]\n",
        " [ 0.  1.  0.  0.  0.  0.  0.  0.  0.  0.]\n",
        " [ 0.  0.  1.  0.  0.  0.  0.  0.  0.  0.]\n",
        " [ 0.  0.  0.  1.  0.  0.  0.  0.  0.  0.]\n",
        " [ 0.  0.  0.  0.  1.  0.  0.  0.  0.  0.]\n",
        " [ 0.  0.  0.  0.  0.  1.  0.  0.  0.  0.]\n",
        " [ 0.  0.  0.  0.  0.  0.  1.  0.  0.  0.]\n",
        " [ 0.  0.  0.  0.  0.  0.  0.  1.  0.  0.]\n",
        " [ 0.  0.  0.  0.  0.  0.  0.  0.  1.  0.]\n",
        " [ 0.  0.  0.  0.  0.  0.  0.  0.  0.  1.]]\n"
       ]
      }
     ],
     "prompt_number": 7
    },
    {
     "cell_type": "code",
     "collapsed": false,
     "input": [
      "#verification that LU_solve works\n",
      "n = 500\n",
      "A = rand(n, n)\n",
      "Ac = A.copy()\n",
      "L, U = LU(Ac)\n",
      "B = rand(n)\n",
      "Bc = B.copy()\n",
      "LU_inplace(A)\n",
      "LU_solve(A, B)\n",
      "la.norm(Ac.dot(B)-Bc)"
     ],
     "language": "python",
     "metadata": {},
     "outputs": [
      {
       "metadata": {},
       "output_type": "pyout",
       "prompt_number": 8,
       "text": [
        "8.507848577673723e-10"
       ]
      }
     ],
     "prompt_number": 8
    },
    {
     "cell_type": "code",
     "collapsed": false,
     "input": [
      "def LU_det(A):\n",
      "    B = A.copy()\n",
      "    ref(B)\n",
      "    # now extract diagonal and take product\n",
      "    return np.prod(B.reshape(B.size)[::B.shape[1]+1])"
     ],
     "language": "python",
     "metadata": {},
     "outputs": [],
     "prompt_number": 9
    },
    {
     "cell_type": "code",
     "collapsed": false,
     "input": [
      "# verification of LU_det\n",
      "A = rand(10, 10)\n",
      "print LU_det(A)\n",
      "print la.det(A)"
     ],
     "language": "python",
     "metadata": {},
     "outputs": [
      {
       "output_type": "stream",
       "stream": "stdout",
       "text": [
        "-0.00883159475995\n",
        "-0.00883159475995\n"
       ]
      }
     ],
     "prompt_number": 10
    },
    {
     "cell_type": "code",
     "collapsed": false,
     "input": [
      "def cholesky(A):\n",
      "    L = np.zeros_like(A)\n",
      "    for i in xrange(A.shape[0]):\n",
      "        for j in xrange(i):\n",
      "            L[i,j]=(A[i,j] - np.inner(L[i,:j], L[j,:j])) / L[j,j]\n",
      "        sl = L[i,:i]\n",
      "        L[i,i] = sqrt(A[i,i] - np.inner(sl, sl))\n",
      "    return L\n",
      "\n",
      "def cholesky_inplace(A):\n",
      "    for i in xrange(A.shape[0]):\n",
      "        A[i,i+1:] = 0.\n",
      "        for j in range(i):\n",
      "            A[i,j] = (A[i,j] - np.inner(A[i,:j],A[j,:j])) / A[j,j]\n",
      "        sl = A[i,:i]\n",
      "        A[i,i] = sqrt(A[i,i] - np.inner(sl, sl))\n",
      "\n",
      "def cholesky_solve(A, B):\n",
      "    for j in xrange(A.shape[0]):\n",
      "        B[j] /= A[j,j]\n",
      "        for i in xrange(j+1, A.shape[0]):\n",
      "            B[i] -= A[i,j] * B[j]\n",
      "    for j in xrange(A.shape[0]-1, -1, -1):\n",
      "        B[j] /= A[j,j]\n",
      "        for i in xrange(j):\n",
      "            B[i] -= A[j,i] * B[j]\n"
     ],
     "language": "python",
     "metadata": {},
     "outputs": [],
     "prompt_number": 11
    },
    {
     "cell_type": "code",
     "collapsed": false,
     "input": [
      "# verification of cholesky functions\n",
      "# all three values should be very close to 0\n",
      "n = 500\n",
      "A = rand(n, n)\n",
      "A[:] = A.dot(A.T)\n",
      "Ac = A.copy()\n",
      "L = cholesky(A)\n",
      "print np.sum(np.absolute(A-L.dot(L.T)))\n",
      "cholesky_inplace(A)\n",
      "print np.sum(np.absolute(L-A))\n",
      "B = rand(n)\n",
      "Bc = B.copy()\n",
      "cholesky_solve(L, B)\n",
      "print np.sum(np.absolute(Bc-Ac.dot(B)))"
     ],
     "language": "python",
     "metadata": {},
     "outputs": [
      {
       "output_type": "stream",
       "stream": "stdout",
       "text": [
        "1.07845323782e-08\n",
        "0.0"
       ]
      },
      {
       "output_type": "stream",
       "stream": "stdout",
       "text": [
        "\n",
        "1.66822461845e-07"
       ]
      },
      {
       "output_type": "stream",
       "stream": "stdout",
       "text": [
        "\n"
       ]
      }
     ],
     "prompt_number": 12
    },
    {
     "cell_type": "code",
     "collapsed": false,
     "input": [],
     "language": "python",
     "metadata": {},
     "outputs": []
    }
   ],
   "metadata": {}
  }
 ]
}