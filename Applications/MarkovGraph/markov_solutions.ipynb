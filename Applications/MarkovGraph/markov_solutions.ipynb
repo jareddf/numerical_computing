{
 "metadata": {
  "name": "markov_solutions"
 },
 "nbformat": 3,
 "nbformat_minor": 0,
 "worksheets": [
  {
   "cells": [
    {
     "cell_type": "code",
     "collapsed": false,
     "input": [
      "import numpy as np\n",
      "from numpy import linalg as la"
     ],
     "language": "python",
     "metadata": {},
     "outputs": [],
     "prompt_number": 1
    },
    {
     "cell_type": "code",
     "collapsed": false,
     "input": [
      "#problem 1\n",
      "#part 1\n",
      "A = np.array([[.75, .5], [.25, .5]])\n",
      "print A.dot(A)[0,0]\n",
      "#part 2\n",
      "print la.matrix_power(A, 20)[0,0]"
     ],
     "language": "python",
     "metadata": {},
     "outputs": [
      {
       "output_type": "stream",
       "stream": "stdout",
       "text": [
        "0.6875\n",
        "0.666666666667\n"
       ]
      }
     ],
     "prompt_number": 2
    },
    {
     "cell_type": "code",
     "collapsed": false,
     "input": [
      "#problem 2\n",
      "#part 1\n",
      "A = np.array([[1./4, 1./3, 1./2], [1./4, 1./3, 1./3], [1./2, 1./3, 1./6]])\n",
      "print A\n",
      "#part 2\n",
      "print A.dot(A)[0,1]\n",
      "#part 3\n",
      "#it is fine if they just raised the matrix to a few powers and did the comparison themselves\n",
      "Anew = A.dot(A)\n",
      "prev = A.copy()\n",
      "tol = .0000001\n",
      "iters = 1\n",
      "maxiters = 100\n",
      "while la.norm(prev-Anew) > tol:\n",
      "    prev[:] = Anew\n",
      "    Anew[:] = A.dot(Anew)\n",
      "    if iters > maxiters:\n",
      "        print \"exceeded \", maxiters, \" iterations.\"\n",
      "        break\n",
      "    iters += 1\n",
      "if iters is not maxiters+1:\n",
      "    print \"reached steady state after \", iters, \" iterations.\"\n",
      "print Anew"
     ],
     "language": "python",
     "metadata": {},
     "outputs": [
      {
       "output_type": "stream",
       "stream": "stdout",
       "text": [
        "[[ 0.25        0.33333333  0.5       ]\n",
        " [ 0.25        0.33333333  0.33333333]\n",
        " [ 0.5         0.33333333  0.16666667]]\n",
        "0.361111111111\n",
        "reached steady state after  14  iterations.\n",
        "[[ 0.35955056  0.35955056  0.35955057]\n",
        " [ 0.30337079  0.30337079  0.30337079]\n",
        " [ 0.33707866  0.33707865  0.33707864]]\n"
       ]
      }
     ],
     "prompt_number": 3
    },
    {
     "cell_type": "code",
     "collapsed": false,
     "input": [
      "#problem 3\n",
      "A = np.array([[0, 0, 1, 0, 1, 0, 1],\n",
      "              [1, 0, 0, 0, 0, 1, 0],\n",
      "              [0, 0, 0, 0, 0, 1, 0],\n",
      "              [1, 0, 0, 0, 1, 0, 0],\n",
      "              [0, 0, 0, 1, 0, 0, 0],\n",
      "              [0, 0, 1, 0, 0, 0, 1],\n",
      "              [0, 1, 0, 0, 0, 0, 0]], dtype=np.int64)\n",
      "A5 = la.matrix_power(A,5)\n",
      "coords = np.where(A5==np.max(A5))\n",
      "#note: indexing from 0\n",
      "print \"maximum of 5 step connections at: \", zip(coords[0], coords[1])\n",
      "A7 = la.matrix_power(A,7)\n",
      "coords = np.where(A7==0)\n",
      "print \"no 7 step connection for: \", zip(coords[0], coords[1])"
     ],
     "language": "python",
     "metadata": {},
     "outputs": [
      {
       "output_type": "stream",
       "stream": "stdout",
       "text": [
        "maximum of 5 step connections at:  [(1, 2), (1, 6)]\n",
        "no 7 step connection for:  [(2, 3)]\n"
       ]
      }
     ],
     "prompt_number": 4
    },
    {
     "cell_type": "code",
     "collapsed": false,
     "input": [
      "#problem 4\n",
      "def findpath(a, b, A):\n",
      "    Anew = A.copy()\n",
      "    arrs = [Anew]\n",
      "    num = 0\n",
      "    while Anew[a,b] == False:\n",
      "        num += 1\n",
      "        Anew = Anew.dot(A)\n",
      "        arrs.append(Anew)\n",
      "        if num > A.shape[0]-1:\n",
      "            raise ValueError(\"Nodes are not connected\")\n",
      "            break\n",
      "    current = a\n",
      "    path = [current]\n",
      "    for arr in reversed(arrs[:-1]):\n",
      "        #iterating over steps\n",
      "        for i in xrange(A.shape[0]):\n",
      "            #iterating over possible points\n",
      "            if A[i,current] == True:\n",
      "                #if it links to the current node\n",
      "                if arr[b,i] == True:\n",
      "                    #if it links to b at this step\n",
      "                    current = i\n",
      "                    path.append(current)\n",
      "                    break\n",
      "    path.append(b)\n",
      "    return path\n",
      "A = np.load(\"maze.npy\")\n",
      "print findpath(0, 224, A)"
     ],
     "language": "python",
     "metadata": {},
     "outputs": [
      {
       "output_type": "stream",
       "stream": "stdout",
       "text": [
        "[0, 15, 30, 45, 46, 61, 60, 75, 76, 77, 78, 63, 48, 49, 64, 79, 80, 81, 96, 97, 112, 111, 110, 125, 124, 123, 138, 153, 168, 167, 182, 183, 198, 199, 200, 215, 216, 201, 186, 171, 156, 141, 126, 127, 142, 157, 172, 173, 174, 189, 188, 187, 202, 217, 218, 203, 204, 219, 220, 205, 206, 221, 222, 223, 208, 209, 224]\n"
       ]
      }
     ],
     "prompt_number": 5
    },
    {
     "cell_type": "code",
     "collapsed": false,
     "input": [],
     "language": "python",
     "metadata": {},
     "outputs": []
    }
   ],
   "metadata": {}
  }
 ]
}